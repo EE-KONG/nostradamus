{
  "nbformat": 4,
  "nbformat_minor": 0,
  "metadata": {
    "colab": {
      "provenance": [],
      "authorship_tag": "ABX9TyMqCwEjnBK1SS9GwEVjF5zO",
      "include_colab_link": true
    },
    "kernelspec": {
      "name": "python3",
      "display_name": "Python 3"
    },
    "language_info": {
      "name": "python"
    }
  },
  "cells": [
    {
      "cell_type": "markdown",
      "metadata": {
        "id": "view-in-github",
        "colab_type": "text"
      },
      "source": [
        "<a href=\"https://colab.research.google.com/github/EE-KONG/nostradamus/blob/main/Markdown.ipynb\" target=\"_parent\"><img src=\"https://colab.research.google.com/assets/colab-badge.svg\" alt=\"Open In Colab\"/></a>"
      ]
    },
    {
      "cell_type": "markdown",
      "source": [
        "# 이것은 Header1입니다.\n",
        "## 이것은 Header2입니다.\n",
        "### 이것은 Header3입니다.\n",
        "####이런 식으로 #의 갯수를 통해\n",
        "##### Header의 수준을 결정할 수 있습니다.\n",
        "*이텔릭체입니다*   \n",
        "\\*이런 식으로 양 텍스트 사이에 별표를 붙일 수도 있습니다.\\*  \n",
        "**볼드체입니다**  \n",
        "~~취소선입니다.~~  \n",
        "C++에서 문자열을 다루는 방식에는 2가지가 있다.\n",
        "1. C-스트림을 이용한다.\n",
        " 1. 이때는 문자열을 char의 배열형으로 선언한 다음,\n",
        " 2. 문자열을 다루는 함수를 사용하기 위해 해더파일인 string.h 혹은 cstring의 호출이 필수적이다.\n",
        "2. string 클래스를 이용한다.\n",
        "\n",
        "재귀구조는 다음과 같은 알고리즘에서 사용될 수 있다.\n",
        "* 하노이 탑\n",
        "* 선택 정렬\n",
        "* 수열\n",
        " + 등차,피보나치 같은 수열\n",
        "\n",
        "- [x] 한 것\n",
        "- [ ] 안 한 것  \n",
        "이렇게 한줄입니다  \n",
        "2개의 공백문자 + 들여쓰기로 들여쓰기를 표현할 수 있습니다.\n",
        "* * *\n",
        "Markdown 생각보다 쉽습니다.\n",
        "```python\n",
        "print('이런식으로 코드 출력이 됩니다!')\n",
        "\n",
        "```"
      ],
      "metadata": {
        "id": "aWN9frefWNyO"
      }
    },
    {
      "cell_type": "code",
      "source": [
        "a=50"
      ],
      "metadata": {
        "id": "hT8bKiY8Wo5e"
      },
      "execution_count": null,
      "outputs": []
    },
    {
      "cell_type": "code",
      "execution_count": null,
      "metadata": {
        "colab": {
          "base_uri": "https://localhost:8080/"
        },
        "id": "-5pYS9nlWJSW",
        "outputId": "5edc5fae-9a83-4a6c-db0a-923f907f6733"
      },
      "outputs": [
        {
          "output_type": "stream",
          "name": "stdout",
          "text": [
            "50\n"
          ]
        }
      ],
      "source": [
        "print(a)"
      ]
    },
    {
      "cell_type": "code",
      "source": [],
      "metadata": {
        "id": "XU2xkl1tcAj-"
      },
      "execution_count": null,
      "outputs": []
    }
  ]
}