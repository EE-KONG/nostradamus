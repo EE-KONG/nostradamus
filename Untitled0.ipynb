{
  "nbformat": 4,
  "nbformat_minor": 0,
  "metadata": {
    "colab": {
      "provenance": [],
      "authorship_tag": "ABX9TyPqgQYV34OeZFqHDXdaC3hc",
      "include_colab_link": true
    },
    "kernelspec": {
      "name": "python3",
      "display_name": "Python 3"
    },
    "language_info": {
      "name": "python"
    }
  },
  "cells": [
    {
      "cell_type": "markdown",
      "metadata": {
        "id": "view-in-github",
        "colab_type": "text"
      },
      "source": [
        "<a href=\"https://colab.research.google.com/github/EE-KONG/nostradamus/blob/main/Untitled0.ipynb\" target=\"_parent\"><img src=\"https://colab.research.google.com/assets/colab-badge.svg\" alt=\"Open In Colab\"/></a>"
      ]
    },
    {
      "cell_type": "markdown",
      "source": [
        "# *OSS 개발*\n",
        "colab 배우기\n",
        "\n",
        "\n",
        "\n",
        "```python\n",
        " def myf(a,b):\n",
        "    print(\"함수 호출\")\n",
        "    return a+b\n",
        "```\n",
        "\n",
        "\n",
        "\n"
      ],
      "metadata": {
        "id": "ZpA2mkxAHXo4"
      }
    },
    {
      "cell_type": "markdown",
      "source": [
        "#**MARKDOWN**\n",
        "\n",
        "⚾\n",
        "\n",
        "$ CO2_k^{x,y}(A,B)=\\alpha*σ$\n",
        "\n"
      ],
      "metadata": {
        "id": "afZmtQIHJtd_"
      }
    },
    {
      "cell_type": "code",
      "execution_count": null,
      "metadata": {
        "id": "oiKcZoZNG0R_"
      },
      "outputs": [],
      "source": [
        "age=10"
      ]
    },
    {
      "cell_type": "code",
      "source": [
        "print(age)"
      ],
      "metadata": {
        "colab": {
          "base_uri": "https://localhost:8080/"
        },
        "id": "Ng8_VBJDHuBg",
        "outputId": "b53a3d5f-990f-4d20-9796-5a52f563d3dd"
      },
      "execution_count": null,
      "outputs": [
        {
          "output_type": "stream",
          "name": "stdout",
          "text": [
            "10\n"
          ]
        }
      ]
    },
    {
      "cell_type": "code",
      "source": [
        "di='2023-01-19' #@param{type:'date'}"
      ],
      "metadata": {
        "id": "N_zdUP21Ln5w"
      },
      "execution_count": null,
      "outputs": []
    }
  ]
}